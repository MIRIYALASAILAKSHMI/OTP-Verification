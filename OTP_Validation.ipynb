{
  "nbformat": 4,
  "nbformat_minor": 0,
  "metadata": {
    "colab": {
      "provenance": []
    },
    "kernelspec": {
      "name": "python3",
      "display_name": "Python 3"
    },
    "language_info": {
      "name": "python"
    }
  },
  "cells": [
    {
      "cell_type": "code",
      "execution_count": 14,
      "metadata": {
        "colab": {
          "base_uri": "https://localhost:8080/"
        },
        "id": "UHE3sqj8RtPK",
        "outputId": "74e85f89-ae96-4263-8aed-d463a5eb5726"
      },
      "outputs": [
        {
          "output_type": "stream",
          "name": "stdout",
          "text": [
            "Enter Your name: sailakshmi\n",
            "Enter Your Date of Birth: 30\n",
            "Enter your Month of birth: 6\n",
            "Enter Mail id: lakshmisailakshmi65@gmail.com\n",
            "Enter OTP recieved to your mail: 1231\n",
            "Wrong OTP Entered !\n"
          ]
        }
      ],
      "source": [
        "import random\n",
        "import smtplib\n",
        "from email.mime.multipart import MIMEMultipart\n",
        "from email.mime.text import MIMEText\n",
        "otp = random.randint(1111,9999)\n",
        "months = {1:\"January\",2:\"Feb\",3:\"March\",4:\"April\",5:\"May\",6:\"June\",7:\"July\",8:\"August\",9:\"September\",10:\"October\",11:\"November\",12:\"Decemeber\"}\n",
        "name = input(\"Enter Your name: \")\n",
        "date = int(input(\"Enter Your Date of Birth: \"))\n",
        "month = int(input(\"Enter your Month of birth: \"))\n",
        "\n",
        "tomail = input(\"Enter Mail id: \")\n",
        "subject = \"OTP For Verification\"\n",
        "body = f\"Hello {name} !\\nDate of Birth : {date} - {months[month]}\\nYour Secret OTP is {otp}\"\n",
        "\n",
        "msg = MIMEMultipart()\n",
        "msg['From'] = \"lakshmisailakshmi65@gmail.com\"\n",
        "msg['To'] = tomail\n",
        "msg['Subject'] = subject\n",
        "msg.attach(MIMEText(body,'plain'))\n",
        "\n",
        "server = smtplib.SMTP(\"smtp.gmail.com\",587)\n",
        "server.starttls()\n",
        "server.login(\"lakshmisailakshmi65@gmail.com\",\"rcij fmqs bote rsbr\")\n",
        "server.send_message(msg)\n",
        "server.quit()\n",
        "\n",
        "userinput = input(\"Enter OTP recieved to your mail: \")\n",
        "if userinput == str(otp):\n",
        "    print(\"OTP Validation Successfull !\")\n",
        "else:\n",
        "    print(\"Wrong OTP Entered !\")"
      ]
    }
  ]
}